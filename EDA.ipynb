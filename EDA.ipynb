# Data-Exploration-on-NYC-ABNB
Since 2008, guests and hosts have used Airbnb to expand on traveling possibilities and present a more unique, personalized way of experiencing the world. Today, Airbnb became one of a kind service that is used and recognized by the whole world. Data analysis on millions of listings provided through Airbnb is a crucial factor for the company. These millions of listings generate a lot of data - data that can be analyzed and used for security, business decisions, understanding of customers' and providers' (hosts) behavior and performance on the platform, guiding marketing initiatives, implementation of innovative additional services and much more.


#importing necessery libraries for future analysis of the dataset

import numpy as np
import pandas as pd
import matplotlib.pyplot as plt
import seaborn as sns
import warnings
warnings.filterwarnings('ignore')



#using pandas library and 'read_csv' function to read BlackFriday csv file as file already formated for us from Kaggle

ab = pd.read_csv('AB_NYC_2019.csv')
ab.head()
ab.info()
ab.describe()



#after looking at the head of the dataset we already were able to notice some NaN values, therefore need to examine missing values further before continuing with analysis

#looking to find out first what columns have null values
#using 'sum' function will show us how many nulls are found in each column in dataset

airbnb.isnull().sum()


#replacing all NaN values in 'reviews_per_month' with 0

airbnb.fillna({'reviews_per_month':0}, inplace=True)

#examing changes
airbnb.reviews_per_month.isnull().sum()


#let's proceed with examing some interesting categorical unique values

#examining the unique values of n_group as this column will appear very handy for later analysis
ab['neighbourhood_group'].unique()


#examining the unique values of neighbourhood as this column will appear very handy for later analysis
ab['neighbourhood'].unique()

#examining the no of unique values of neighbourhood 
ab['neighbourhood'].nunique()


#examining the unique values of room_type as this column will appear very handy for later analysis
ab['room_type'].unique()


#let's see what hosts (IDs) have the most listings on Airbnb platform and taking advantage of this service
ab['host_id'].value_counts()

#Name of that host who is the most bussiest 
ab[ab.host_id==219517861]['host_name'].unique()


#setting figure size for future visualizations
sns.set(rc={'figure.figsize':(10,8)})

viz_1=top_host.plot(kind='bar')
viz_1.set_title('Hosts with the most listings in NYC')
viz_1.set_ylabel('Count of listings')
viz_1.set_xlabel('Host IDs')
viz_1.set_xticklabels(viz_1.get_xticklabels(), rotation=45)


#Let's see which neighbourhood_groups' hotels are having high prices.
sns.barplot(x='neighbourhood_group',y='price',data=ab)

#Let's see what type of rooms guests are interested to avail most
sns.countplot(x='room_type',data=ab)
roomdf = ab.room_type.value_counts()/ab['room_type'].count()*100
labels = roomdf.index
values = roomdf.values
plt.pie(x=values,labels=labels,autopct='%li%%',explode=(0,0,0.5))
plt.show()


#Which hotels are having 'zero' availaibility for this year
ab.loc[ab['availability_365']==ab['availability_365'].min()]
ab.loc[ab['availability_365']==ab['availability_365'].min()].count()

#Which hotels are still available and we can book for any time for this year
b.loc[ab['availability_365']==ab['availability_365'].max()]
ab.loc[ab['availability_365']==ab['availability_365'].max()].count()


#Bussiest neighbourhood_group
ab.groupby('neighbourhood_group').count()['availability_365'].idxmax()

#Not so busy neighbourhood_group and we can book hotels for any time of this year there
ab.groupby('neighbourhood_group').count()['availability_365'].idxmin()


#Removing Outliers

ab = ab.drop(ab[(ab['minimum_nights']>365)].index)
ab = ab.dropna(subset=['host_name', 'name'])  # Removing null values


#let's grab 10 most reviewed listings in NYC
top_reviewed_listings=airbnb.nlargest(10,'number_of_reviews')
top_reviewed_listings

#Avg price for one night
price_avrg=top_reviewed_listings.price.mean()
print('Average price per night: {}'.format(price_avrg))


#let's what we can do with our given longtitude and latitude columns
pip install plotly_express==0.4.1


#Importing necessary libraries to visualize in map using plotly

import plotly.offline as pyo
import plotly.graph_objs as go
import plotly_express as px

mapbox_access_token = 'pk.eyJ1IjoiYmlkZHkiLCJhIjoiY2pxNWZ1bjZ6MjRjczRhbXNxeG5udzkyNSJ9.xX6QLOAcoBmXZdUdocAeuA'
px.set_mapbox_access_token(mapbox_access_token)
fig = px.scatter_mapbox(ab, lat="latitude", lon="longitude", color="neighbourhood_group", size = 'price', opacity= 0.8,
                  color_continuous_scale=px.colors.cyclical.IceFire, size_max=16, zoom=9.2,height=400, width=800 )
fig.update_layout(
    mapbox_style="white-bg",
    showlegend = False,
    mapbox_layers=[
        {
            "below": 'traces',
            "sourcetype": "raster",
            "source": [
                "https://basemap.nationalmap.gov/arcgis/rest/services/USGSImageryOnly/MapServer/tile/{z}/{y}/{x}"
            ]
        },
        {
            "sourcetype": "raster",
            "source": ["https://geo.weather.gc.ca/geomet/?"
                       "SERVICE=WMS&VERSION=1.3.0&REQUEST=GetMap&BBOX={bbox-epsg-3857}&CRS=EPSG:3857"
                       "&WIDTH=1000&HEIGHT=1000&LAYERS=RADAR_1KM_RDBR&TILED=true&FORMAT=image/png"],
        }
      ])
fig.update_layout(margin={"r":0,"t":0,"l":0,"b":4})
fig.show() 







